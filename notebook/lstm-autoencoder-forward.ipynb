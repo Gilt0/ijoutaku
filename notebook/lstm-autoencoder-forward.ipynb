{
 "cells": [
  {
   "cell_type": "code",
   "execution_count": 1,
   "metadata": {},
   "outputs": [],
   "source": [
    "import sys\n",
    "sys.path.insert(0, '/Users/gil-arnaudcoche/Documents/ijoutaku/')\n",
    "\n",
    "import time\n",
    "import keras\n",
    "import matplotlib.pyplot as plt\n",
    "\n",
    "\n",
    "from config.paths import TRAIN_PATH\n",
    "from config.paths import MODELS_PATH\n",
    "\n",
    "from config.models import EPOCHS\n",
    "\n",
    "from config.models import LSTM_FILTERS_1\n",
    "from config.models import LSTM_FILTERS_2\n",
    "from config.models import LSTM_FILTERS_3\n",
    "from config.models import LSTM_KERNEL\n",
    "\n",
    "from config.models import PADDING\n",
    "from config.models import SIGMOID\n",
    "from config.models import RELU\n",
    "from config.models import LOSS\n",
    "from config.models import LEARNING_RATE\n",
    "from config.models import EPSILON\n",
    "\n",
    "\n",
    "from lib.generators import ForwardDataGenerator"
   ]
  },
  {
   "cell_type": "code",
   "execution_count": 2,
   "metadata": {},
   "outputs": [],
   "source": [
    "train_set = ForwardDataGenerator(TRAIN_PATH, shuffle_at_start=True)"
   ]
  },
  {
   "cell_type": "code",
   "execution_count": 3,
   "metadata": {},
   "outputs": [
    {
     "name": "stdout",
     "output_type": "stream",
     "text": [
      "Model: \"sequential\"\n",
      "_________________________________________________________________\n",
      " Layer (type)                Output Shape              Param #   \n",
      "=================================================================\n",
      " conv_lstm2d (ConvLSTM2D)    (3, 5, 88, 128, 16)       9856      \n",
      "                                                                 \n",
      " conv_lstm2d_1 (ConvLSTM2D)  (3, 5, 88, 128, 8)        6944      \n",
      "                                                                 \n",
      " conv_lstm2d_2 (ConvLSTM2D)  (3, 88, 128, 4)           1744      \n",
      "                                                                 \n",
      " reshape (Reshape)           (3, 1, 88, 128, 4)        0         \n",
      "                                                                 \n",
      " conv_lstm2d_3 (ConvLSTM2D)  (3, 1, 88, 128, 8)        3488      \n",
      "                                                                 \n",
      " conv_lstm2d_4 (ConvLSTM2D)  (3, 88, 128, 16)          13888     \n",
      "                                                                 \n",
      " conv2d_transpose (Conv2DTr  (3, 88, 128, 1)           145       \n",
      " anspose)                                                        \n",
      "                                                                 \n",
      "=================================================================\n",
      "Total params: 36065 (140.88 KB)\n",
      "Trainable params: 36065 (140.88 KB)\n",
      "Non-trainable params: 0 (0.00 Byte)\n",
      "_________________________________________________________________\n",
      "None\n",
      "Epoch 1/10\n",
      "2210/2210 [==============================] - 5350s 2s/step - loss: 0.0110\n",
      "Epoch 2/10\n",
      "2210/2210 [==============================] - 3745s 2s/step - loss: 0.0016\n",
      "Epoch 3/10\n",
      "2210/2210 [==============================] - 3510s 2s/step - loss: 0.0010\n",
      "Epoch 4/10\n",
      "2210/2210 [==============================] - 1836s 831ms/step - loss: 7.9002e-04\n",
      "Epoch 5/10\n",
      "2210/2210 [==============================] - 1835s 830ms/step - loss: 6.9196e-04\n",
      "Epoch 6/10\n",
      "2210/2210 [==============================] - 1795s 812ms/step - loss: 6.3163e-04\n",
      "Epoch 7/10\n",
      "2210/2210 [==============================] - 1790s 810ms/step - loss: 5.8568e-04\n",
      "Epoch 8/10\n",
      "2210/2210 [==============================] - 1794s 812ms/step - loss: 5.4859e-04\n",
      "Epoch 9/10\n",
      "2210/2210 [==============================] - 1793s 811ms/step - loss: 5.1828e-04\n",
      "Epoch 10/10\n",
      "2210/2210 [==============================] - 1792s 811ms/step - loss: 4.9169e-04\n",
      "Training took 420 min 41 s\n"
     ]
    },
    {
     "name": "stderr",
     "output_type": "stream",
     "text": [
      "/Users/gil-arnaudcoche/anaconda3/lib/python3.11/site-packages/keras/src/engine/training.py:3079: UserWarning: You are saving your model as an HDF5 file via `model.save()`. This file format is considered legacy. We recommend using instead the native Keras format, e.g. `model.save('my_model.keras')`.\n",
      "  saving_api.save_model(\n"
     ]
    }
   ],
   "source": [
    "model = keras.models.Sequential()\n",
    "# Input layer\n",
    "model.add(keras.layers.Input(batch_shape=(ForwardDataGenerator._BATCH_SIZE, ForwardDataGenerator._LOOKBACK, ForwardDataGenerator._IMAGE_HEIGHT, ForwardDataGenerator._IMAGE_WIDTH, 1)))\n",
    "# Encoder\n",
    "model.add(keras.layers.ConvLSTM2D(filters=LSTM_FILTERS_1, kernel_size=LSTM_KERNEL, padding=PADDING, return_sequences=True, activation=RELU))\n",
    "model.add(keras.layers.ConvLSTM2D(filters=LSTM_FILTERS_2, kernel_size=LSTM_KERNEL, padding=PADDING, return_sequences=True, activation=RELU))\n",
    "model.add(keras.layers.ConvLSTM2D(filters=LSTM_FILTERS_3, kernel_size=LSTM_KERNEL, padding=PADDING, return_sequences=False, activation=RELU))\n",
    "# Decoder\n",
    "model.add(keras.layers.Reshape((1, ForwardDataGenerator._IMAGE_HEIGHT, ForwardDataGenerator._IMAGE_WIDTH, LSTM_FILTERS_3)))\n",
    "model.add(keras.layers.ConvLSTM2D(filters=LSTM_FILTERS_2, kernel_size=LSTM_KERNEL, padding=PADDING, return_sequences=True, activation=RELU))\n",
    "model.add(keras.layers.ConvLSTM2D(filters=LSTM_FILTERS_1, kernel_size=LSTM_KERNEL, padding=PADDING, return_sequences=False, activation=RELU))\n",
    "model.add(keras.layers.Conv2DTranspose(filters=1, kernel_size=LSTM_KERNEL, padding=PADDING, activation=SIGMOID))\n",
    "print(model.summary())\n",
    "model.compile(loss=LOSS, optimizer=keras.optimizers.legacy.Adam(learning_rate=LEARNING_RATE, epsilon=EPSILON))\n",
    "start = time.time()\n",
    "history = model.fit(train_set, batch_size=ForwardDataGenerator._BATCH_SIZE, epochs=EPOCHS, shuffle=True)\n",
    "end = time.time()\n",
    "duration_seconds = int(end - start)\n",
    "duration_minutes, leftover_seconds = duration_seconds // 60, duration_seconds % 60\n",
    "print(f'Training took {duration_minutes} min {leftover_seconds} s')\n",
    "model.save(f'{MODELS_PATH}lstm-autoencoder-forward.hdf5')\n"
   ]
  },
  {
   "cell_type": "code",
   "execution_count": 4,
   "metadata": {},
   "outputs": [
    {
     "name": "stdout",
     "output_type": "stream",
     "text": [
      "dict_keys(['loss'])\n"
     ]
    },
    {
     "data": {
      "image/png": "[encoded data removed]",
      "text/plain": [
       "<Figure size 640x480 with 1 Axes>"
      ]
     },
     "metadata": {},
     "output_type": "display_data"
    }
   ],
   "source": [
    "print(history.history.keys())\n",
    "plt.plot(history.history['loss'])\n",
    "plt.title('model loss')\n",
    "plt.ylabel('loss')\n",
    "plt.xlabel('epoch')\n",
    "plt.legend(['train'], loc='upper left')\n",
    "plt.show()"
   ]
  }
 ],
 "metadata": {
  "kernelspec": {
   "display_name": "base",
   "language": "python",
   "name": "python3"
  },
  "language_info": {
   "codemirror_mode": {
    "name": "ipython",
    "version": 3
   },
   "file_extension": ".py",
   "mimetype": "text/x-python",
   "name": "python",
   "nbconvert_exporter": "python",
   "pygments_lexer": "ipython3",
   "version": "3.11.5"
  },
  "orig_nbformat": 4
 },
 "nbformat": 4,
 "nbformat_minor": 2
}
