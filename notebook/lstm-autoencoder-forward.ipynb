{
 "cells": [
  {
   "cell_type": "code",
   "execution_count": 1,
   "metadata": {},
   "outputs": [],
   "source": [
    "import os\n",
    "import random\n",
    "import time\n",
    "\n",
    "import keras\n",
    "\n",
    "import PIL as pil\n",
    "import numpy as np\n",
    "import matplotlib.pyplot as plt"
   ]
  },
  {
   "cell_type": "code",
   "execution_count": 2,
   "metadata": {},
   "outputs": [],
   "source": [
    "DATA_PATH = '/Users/gil-arnaudcoche/Documents/ijoutaku/data/UCSDped1/'\n",
    "TRAIN_PATH = f'{DATA_PATH}Train/'\n",
    "TEST_PATH = f'{DATA_PATH}Test/'"
   ]
  },
  {
   "cell_type": "code",
   "execution_count": 3,
   "metadata": {},
   "outputs": [],
   "source": [
    "class DataGenerator(keras.utils.Sequence):\n",
    "    \n",
    "    _IMAGE_WIDTH = 128\n",
    "    _IMAGE_HEIGHT = 88\n",
    "    _TIF_EXTENSION = '.tif'\n",
    "    _LOOKBACK = 5\n",
    "    _BATCH_SIZE = 3\n",
    "    _SEQUENCE_SIZE = 200\n",
    "\n",
    "    def __init__(self, data_path, shuffle_at_start=False):\n",
    "        self._data_path = data_path\n",
    "        self._shuffle_at_start = shuffle_at_start\n",
    "        self._sequences = list()\n",
    "        self._batches = list()\n",
    "        self._len = 0\n",
    "        self.__load__()\n",
    "\n",
    "    def __make_batches__(self, ):\n",
    "        self._batches = [ self._sequences[i:i+self._BATCH_SIZE] for i in range(0, len(self._sequences), self._BATCH_SIZE) ]\n",
    "        self._len = len(self._batches)\n",
    "\n",
    "    def __load__(self, ):\n",
    "        tmp_sequences = sorted([ f'{self._data_path}{data_folder}/' for data_folder in os.listdir(self._data_path) ])\n",
    "        for sequence in tmp_sequences:\n",
    "            if not os.path.isdir(sequence): continue\n",
    "            image_files = sorted([ f'{sequence}{image_file}' for image_file in os.listdir(sequence) if image_file.find('.tif') > -1 ])\n",
    "            if not image_files: continue\n",
    "            for n in range(len(image_files) - self._LOOKBACK):\n",
    "                predictors = image_files[n:n+self._LOOKBACK]\n",
    "                predicted = image_files[n+self._LOOKBACK]\n",
    "                self._sequences.append((predictors, predicted))\n",
    "        if self._shuffle_at_start: random.shuffle(self._sequences)\n",
    "        self.__make_batches__()\n",
    "\n",
    "    def __len__(self, ):\n",
    "        return self._len\n",
    "\n",
    "    def __getitem__(self, index):\n",
    "        X = np.zeros((self._BATCH_SIZE, self._LOOKBACK, self._IMAGE_HEIGHT, self._IMAGE_WIDTH, 1), dtype=np.float16)\n",
    "        y = np.zeros((self._BATCH_SIZE, self._IMAGE_HEIGHT, self._IMAGE_WIDTH, 1), dtype=np.float16)\n",
    "        batch = self._batches[index]\n",
    "        for b, (predictors, predicted) in enumerate(batch):\n",
    "            for l, predictor in enumerate(predictors):\n",
    "                X[b, l, :, :, 0] = np.array(pil.Image.open(predictor).resize((self._IMAGE_WIDTH, self._IMAGE_HEIGHT)), dtype=np.float16)/256\n",
    "            y[b, :, :, 0] = np.array(pil.Image.open(predicted).resize((self._IMAGE_WIDTH, self._IMAGE_HEIGHT)), dtype=np.float16)/256\n",
    "        return X, y\n",
    "\n",
    "    def on_epoch_end(self, ):\n",
    "        random.shuffle(self._sequences)\n",
    "        self.__make_batches__()"
   ]
  },
  {
   "cell_type": "code",
   "execution_count": 4,
   "metadata": {},
   "outputs": [],
   "source": [
    "train_set = DataGenerator(TRAIN_PATH, shuffle_at_start=True)"
   ]
  },
  {
   "cell_type": "code",
   "execution_count": 5,
   "metadata": {},
   "outputs": [
    {
     "name": "stdout",
     "output_type": "stream",
     "text": [
      "Model: \"sequential\"\n",
      "_________________________________________________________________\n",
      " Layer (type)                Output Shape              Param #   \n",
      "=================================================================\n",
      " conv_lstm2d (ConvLSTM2D)    (3, 5, 88, 128, 16)       9856      \n",
      "                                                                 \n",
      " conv_lstm2d_1 (ConvLSTM2D)  (3, 5, 88, 128, 8)        6944      \n",
      "                                                                 \n",
      " conv_lstm2d_2 (ConvLSTM2D)  (3, 88, 128, 4)           1744      \n",
      "                                                                 \n",
      " reshape (Reshape)           (3, 1, 88, 128, 4)        0         \n",
      "                                                                 \n",
      " conv_lstm2d_3 (ConvLSTM2D)  (3, 1, 88, 128, 8)        3488      \n",
      "                                                                 \n",
      " conv_lstm2d_4 (ConvLSTM2D)  (3, 88, 128, 16)          13888     \n",
      "                                                                 \n",
      " conv2d_transpose (Conv2DTr  (3, 88, 128, 1)           145       \n",
      " anspose)                                                        \n",
      "                                                                 \n",
      "=================================================================\n",
      "Total params: 36065 (140.88 KB)\n",
      "Trainable params: 36065 (140.88 KB)\n",
      "Non-trainable params: 0 (0.00 Byte)\n",
      "_________________________________________________________________\n",
      "None\n",
      "Epoch 1/3\n",
      "1020/2210 [============>.................] - ETA: 42:26 - loss: 0.0158"
     ]
    }
   ],
   "source": [
    "EPOCHS = 3\n",
    "\n",
    "LSTM_FILTERS_1 = 16\n",
    "LSTM_FILTERS_2 = 8\n",
    "LSTM_FILTERS_3 = 4\n",
    "LSTM_KERNEL = 3, 3\n",
    "\n",
    "PADDING = 'same'\n",
    "SIGMOID = 'sigmoid'\n",
    "RELU = 'relu'\n",
    "STRIDES = 2\n",
    "LOSS = 'mse'\n",
    "\n",
    "LEARNING_RATE = 1e-4\n",
    "EPSILON = 1e-6\n",
    "\n",
    "model = keras.models.Sequential()\n",
    "# Input layer\n",
    "model.add(keras.layers.Input(batch_shape=(DataGenerator._BATCH_SIZE, DataGenerator._LOOKBACK, DataGenerator._IMAGE_HEIGHT, DataGenerator._IMAGE_WIDTH, 1)))\n",
    "# Encoder\n",
    "model.add(keras.layers.ConvLSTM2D(filters=LSTM_FILTERS_1, kernel_size=LSTM_KERNEL, padding=PADDING, return_sequences=True, activation=RELU))\n",
    "model.add(keras.layers.ConvLSTM2D(filters=LSTM_FILTERS_2, kernel_size=LSTM_KERNEL, padding=PADDING, return_sequences=True, activation=RELU))\n",
    "model.add(keras.layers.ConvLSTM2D(filters=LSTM_FILTERS_3, kernel_size=LSTM_KERNEL, padding=PADDING, return_sequences=False, activation=RELU))\n",
    "# Decoder\n",
    "model.add(keras.layers.Reshape((1, DataGenerator._IMAGE_HEIGHT, DataGenerator._IMAGE_WIDTH, LSTM_FILTERS_3)))\n",
    "model.add(keras.layers.ConvLSTM2D(filters=LSTM_FILTERS_2, kernel_size=LSTM_KERNEL, padding=PADDING, return_sequences=True, activation=RELU))\n",
    "# model.add(keras.layers.ConvLSTM2D(filters=LSTM_FILTERS_2, kernel_size=LSTM_KERNEL, padding=PADDING, return_sequences=False, activation=RELU))\n",
    "model.add(keras.layers.ConvLSTM2D(filters=LSTM_FILTERS_1, kernel_size=LSTM_KERNEL, padding=PADDING, return_sequences=False, activation=RELU))\n",
    "model.add(keras.layers.Conv2DTranspose(filters=1, kernel_size=LSTM_KERNEL, padding=PADDING, activation=SIGMOID))\n",
    "print(model.summary())\n",
    "model.compile(loss=LOSS, optimizer=keras.optimizers.legacy.Adam(learning_rate=LEARNING_RATE, epsilon=EPSILON))\n",
    "start = time.time()\n",
    "model.fit(train_set, batch_size=DataGenerator._BATCH_SIZE, epochs=EPOCHS, shuffle=True)\n",
    "end = time.time()\n",
    "duration_seconds = int(end - start)\n",
    "duration_minutes, leftover_seconds = duration_seconds // 60, duration_seconds % 60\n",
    "print(f'Training took {duration_minutes} min {leftover_seconds} s')\n"
   ]
  },
  {
   "cell_type": "code",
   "execution_count": null,
   "metadata": {},
   "outputs": [],
   "source": []
  }
 ],
 "metadata": {
  "kernelspec": {
   "display_name": "base",
   "language": "python",
   "name": "python3"
  },
  "language_info": {
   "codemirror_mode": {
    "name": "ipython",
    "version": 3
   },
   "file_extension": ".py",
   "mimetype": "text/x-python",
   "name": "python",
   "nbconvert_exporter": "python",
   "pygments_lexer": "ipython3",
   "version": "3.11.5"
  },
  "orig_nbformat": 4
 },
 "nbformat": 4,
 "nbformat_minor": 2
}
