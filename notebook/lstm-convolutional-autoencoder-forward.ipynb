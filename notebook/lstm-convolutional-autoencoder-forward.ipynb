{
 "cells": [
  {
   "cell_type": "code",
   "execution_count": 1,
   "metadata": {},
   "outputs": [],
   "source": [
    "import sys\n",
    "sys.path.insert(0, '/Users/gil-arnaudcoche/Documents/ijoutaku/')\n",
    "\n",
    "import time\n",
    "import keras\n",
    "import matplotlib.pyplot as plt\n",
    "\n",
    "from config.paths import TRAIN_PATH\n",
    "from config.paths import MODELS_PATH\n",
    "\n",
    "from config.models import EPOCHS\n",
    "from config.models import CONV_FILTERS\n",
    "from config.models import CONV_KERNEL\n",
    "from config.models import LSTM_FILTERS\n",
    "from config.models import LSTM_KERNEL\n",
    "from config.models import PADDING\n",
    "from config.models import SIGMOID\n",
    "from config.models import RELU\n",
    "from config.models import STRIDES\n",
    "from config.models import LOSS\n",
    "from config.models import LEARNING_RATE\n",
    "from config.models import EPSILON\n",
    "\n",
    "from lib.generators import ForwardDataGenerator"
   ]
  },
  {
   "cell_type": "code",
   "execution_count": 2,
   "metadata": {},
   "outputs": [],
   "source": [
    "train_set = ForwardDataGenerator(TRAIN_PATH, shuffle_at_start=True)"
   ]
  },
  {
   "cell_type": "code",
   "execution_count": 3,
   "metadata": {},
   "outputs": [
    {
     "name": "stdout",
     "output_type": "stream",
     "text": [
      "Model: \"sequential\"\n",
      "_________________________________________________________________\n",
      " Layer (type)                Output Shape              Param #   \n",
      "=================================================================\n",
      " time_distributed (TimeDist  (None, 5, 44, 64, 32)     544       \n",
      " ributed)                                                        \n",
      "                                                                 \n",
      " layer_normalization (Layer  (None, 5, 44, 64, 32)     64        \n",
      " Normalization)                                                  \n",
      "                                                                 \n",
      " conv_lstm2d (ConvLSTM2D)    (None, 44, 64, 16)        27712     \n",
      "                                                                 \n",
      " layer_normalization_1 (Lay  (None, 44, 64, 16)        32        \n",
      " erNormalization)                                                \n",
      "                                                                 \n",
      " conv2d_transpose (Conv2DTr  (None, 88, 128, 32)       8224      \n",
      " anspose)                                                        \n",
      "                                                                 \n",
      " layer_normalization_2 (Lay  (None, 88, 128, 32)       64        \n",
      " erNormalization)                                                \n",
      "                                                                 \n",
      " conv2d_1 (Conv2D)           (None, 88, 128, 1)        513       \n",
      "                                                                 \n",
      "=================================================================\n",
      "Total params: 37153 (145.13 KB)\n",
      "Trainable params: 37153 (145.13 KB)\n",
      "Non-trainable params: 0 (0.00 Byte)\n",
      "_________________________________________________________________\n",
      "None\n",
      "Epoch 1/3\n",
      "2210/2210 [==============================] - 1910s 860ms/step - loss: 0.0030\n",
      "Epoch 2/3\n",
      " 327/2210 [===>..........................] - ETA: 19:11 - loss: 7.8905e-04"
     ]
    }
   ],
   "source": [
    "model = keras.models.Sequential()\n",
    "# Input layer\n",
    "model.add(keras.layers.InputLayer(input_shape=(ForwardDataGenerator._LOOKBACK, ForwardDataGenerator._IMAGE_HEIGHT, ForwardDataGenerator._IMAGE_WIDTH, 1)))\n",
    "# TimeDistributed Conv2D layer\n",
    "model.add(keras.layers.TimeDistributed(keras.layers.Conv2D(CONV_FILTERS, CONV_KERNEL, activation=RELU, strides=STRIDES, padding=PADDING)))\n",
    "model.add(keras.layers.LayerNormalization())\n",
    "# ConvLSTM2D layer\n",
    "model.add(keras.layers.ConvLSTM2D(LSTM_FILTERS, LSTM_KERNEL, padding=PADDING, return_sequences=False))  # return_sequences=False because we want only the last frame representation\n",
    "model.add(keras.layers.LayerNormalization())\n",
    "# Conv2DTranspose layers and output layer\n",
    "model.add(keras.layers.Conv2DTranspose(CONV_FILTERS, CONV_KERNEL, activation=RELU, strides=STRIDES, padding=PADDING))\n",
    "model.add(keras.layers.LayerNormalization())\n",
    "model.add(keras.layers.Conv2D(1, CONV_KERNEL, activation=SIGMOID, padding=PADDING))\n",
    "# Model compilation and training\n",
    "print(model.summary())\n",
    "model.compile(loss=LOSS, optimizer=keras.optimizers.legacy.Adam(learning_rate=LEARNING_RATE, epsilon=EPSILON))\n",
    "start = time.time()\n",
    "history = model.fit(train_set, batch_size=ForwardDataGenerator._BATCH_SIZE, epochs=EPOCHS, shuffle=False)  # Assuming train_set is correctly formatted\n",
    "end = time.time()\n",
    "duration_seconds = int(end - start)\n",
    "duration_minutes, leftover_seconds = duration_seconds // 60, duration_seconds % 60\n",
    "print(f'Training took {duration_minutes} min {leftover_seconds} s')\n",
    "model.save(f'{MODELS_PATH}lstm-convolutional-autoencoder-forward.hdf5')\n"
   ]
  },
  {
   "cell_type": "code",
   "execution_count": null,
   "metadata": {},
   "outputs": [],
   "source": [
    "print(history.history.keys())\n",
    "plt.plot(history.history['loss'])\n",
    "plt.title('model loss')\n",
    "plt.ylabel('loss')\n",
    "plt.xlabel('epoch')\n",
    "plt.legend(['train'], loc='upper left')\n",
    "plt.show()"
   ]
  }
 ],
 "metadata": {
  "kernelspec": {
   "display_name": "base",
   "language": "python",
   "name": "python3"
  },
  "language_info": {
   "codemirror_mode": {
    "name": "ipython",
    "version": 3
   },
   "file_extension": ".py",
   "mimetype": "text/x-python",
   "name": "python",
   "nbconvert_exporter": "python",
   "pygments_lexer": "ipython3",
   "version": "3.11.5"
  },
  "orig_nbformat": 4
 },
 "nbformat": 4,
 "nbformat_minor": 2
}
