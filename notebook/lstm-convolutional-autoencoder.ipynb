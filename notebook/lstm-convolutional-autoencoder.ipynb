{
 "cells": [
  {
   "cell_type": "code",
   "execution_count": 1,
   "metadata": {},
   "outputs": [],
   "source": [
    "import os\n",
    "import sys\n",
    "\n",
    "HOME = f'{os.getcwd().replace(\"notebook\", \"\")}'\n",
    "sys.path.insert(0, HOME)\n",
    "\n",
    "import time\n",
    "import keras\n",
    "import matplotlib.pyplot as plt\n",
    "\n",
    "\n",
    "from config.paths import TRAIN_PATH\n",
    "from config.paths import MODELS_PATH\n",
    "\n",
    "from config.models import EPOCHS\n",
    "from config.models import CONV_FILTERS\n",
    "from config.models import CONV_KERNEL\n",
    "from config.models import LSTM_FILTERS\n",
    "from config.models import LSTM_KERNEL\n",
    "from config.models import PADDING\n",
    "from config.models import SIGMOID\n",
    "from config.models import RELU\n",
    "from config.models import STRIDES\n",
    "from config.models import LOSS\n",
    "from config.models import LEARNING_RATE\n",
    "from config.models import EPSILON\n",
    "\n",
    "from lib.generators import SequenceDataGenerator"
   ]
  },
  {
   "cell_type": "code",
   "execution_count": 2,
   "metadata": {},
   "outputs": [],
   "source": [
    "train_set = SequenceDataGenerator(TRAIN_PATH)"
   ]
  },
  {
   "cell_type": "code",
   "execution_count": 3,
   "metadata": {},
   "outputs": [
    {
     "name": "stdout",
     "output_type": "stream",
     "text": [
      "Model: \"sequential\"\n",
      "_________________________________________________________________\n",
      " Layer (type)                Output Shape              Param #   \n",
      "=================================================================\n",
      " time_distributed (TimeDist  (3, 40, 44, 64, 32)       544       \n",
      " ributed)                                                        \n",
      "                                                                 \n",
      " layer_normalization (Layer  (3, 40, 44, 64, 32)       64        \n",
      " Normalization)                                                  \n",
      "                                                                 \n",
      " conv_lstm2d (ConvLSTM2D)    (3, 40, 44, 64, 16)       27712     \n",
      "                                                                 \n",
      " layer_normalization_1 (Lay  (3, 40, 44, 64, 16)       32        \n",
      " erNormalization)                                                \n",
      "                                                                 \n",
      " time_distributed_1 (TimeDi  (3, 40, 88, 128, 32)      8224      \n",
      " stributed)                                                      \n",
      "                                                                 \n",
      " layer_normalization_2 (Lay  (3, 40, 88, 128, 32)      64        \n",
      " erNormalization)                                                \n",
      "                                                                 \n",
      " time_distributed_2 (TimeDi  (3, 40, 88, 128, 1)       513       \n",
      " stributed)                                                      \n",
      "                                                                 \n",
      "=================================================================\n",
      "Total params: 37153 (145.13 KB)\n",
      "Trainable params: 37153 (145.13 KB)\n",
      "Non-trainable params: 0 (0.00 Byte)\n",
      "_________________________________________________________________\n",
      "None\n",
      "Epoch 1/10\n",
      "57/57 [==============================] - 592s 10s/step - loss: 0.0290\n",
      "Epoch 2/10\n",
      "57/57 [==============================] - 620s 11s/step - loss: 0.0077\n",
      "Epoch 3/10\n",
      "57/57 [==============================] - 602s 11s/step - loss: 0.0051\n",
      "Epoch 4/10\n",
      "57/57 [==============================] - 616s 11s/step - loss: 0.0040\n",
      "Epoch 5/10\n",
      "57/57 [==============================] - 615s 11s/step - loss: 0.0033\n",
      "Epoch 6/10\n",
      "57/57 [==============================] - 622s 11s/step - loss: 0.0029\n",
      "Epoch 7/10\n",
      "57/57 [==============================] - 627s 11s/step - loss: 0.0025\n",
      "Epoch 8/10\n",
      "57/57 [==============================] - 617s 11s/step - loss: 0.0022\n",
      "Epoch 9/10\n",
      "57/57 [==============================] - 596s 10s/step - loss: 0.0020\n",
      "Epoch 10/10\n",
      "57/57 [==============================] - 592s 10s/step - loss: 0.0019\n",
      "Training took 101 min 39 s\n"
     ]
    },
    {
     "name": "stderr",
     "output_type": "stream",
     "text": [
      "/Users/gil-arnaudcoche/anaconda3/lib/python3.11/site-packages/keras/src/engine/training.py:3079: UserWarning: You are saving your model as an HDF5 file via `model.save()`. This file format is considered legacy. We recommend using instead the native Keras format, e.g. `model.save('my_model.keras')`.\n",
      "  saving_api.save_model(\n"
     ]
    }
   ],
   "source": [
    "model = keras.models.Sequential()\n",
    "model.add(keras.layers.TimeDistributed(keras.layers.Conv2D(CONV_FILTERS, CONV_KERNEL, activation=RELU, strides=STRIDES, padding=PADDING), batch_input_shape=(SequenceDataGenerator._BATCH_SIZE, int(SequenceDataGenerator._SEQUENCE_SIZE/SequenceDataGenerator._STRIDE_KERNEL), SequenceDataGenerator._IMAGE_HEIGHT, SequenceDataGenerator._IMAGE_WIDTH, 1)))\n",
    "model.add(keras.layers.LayerNormalization())\n",
    "# # # # #\n",
    "model.add(keras.layers.ConvLSTM2D(LSTM_FILTERS, LSTM_KERNEL, padding=PADDING, return_sequences=True))\n",
    "model.add(keras.layers.LayerNormalization())\n",
    "# # # # #\n",
    "model.add(keras.layers.TimeDistributed(keras.layers.Conv2DTranspose(CONV_FILTERS, CONV_KERNEL, activation=RELU, strides=STRIDES, padding=PADDING)))\n",
    "model.add(keras.layers.LayerNormalization())\n",
    "model.add(keras.layers.TimeDistributed(keras.layers.Conv2D(1, CONV_KERNEL, activation=SIGMOID, padding=PADDING)))\n",
    "print(model.summary())\n",
    "model.compile(loss=LOSS, optimizer=keras.optimizers.legacy.Adam(learning_rate=LEARNING_RATE, epsilon=EPSILON))\n",
    "start = time.time()\n",
    "history = model.fit(train_set, batch_size=SequenceDataGenerator._BATCH_SIZE, epochs=EPOCHS, shuffle=False)\n",
    "end = time.time()\n",
    "duration_seconds = int(end - start)\n",
    "duration_minutes, leftover_seconds = duration_seconds // 60, duration_seconds % 60\n",
    "print(f'Training took {duration_minutes} min {leftover_seconds} s')\n",
    "model.save(f'{MODELS_PATH}lstm-convolutional-autoencoder.hdf5')\n"
   ]
  },
  {
   "cell_type": "code",
   "execution_count": 4,
   "metadata": {},
   "outputs": [
    {
     "name": "stdout",
     "output_type": "stream",
     "text": [
      "dict_keys(['loss'])\n"
     ]
    },
    {
     "data": {
      "image/png": "[encoded data removed]",
      "text/plain": [
       "<Figure size 640x480 with 1 Axes>"
      ]
     },
     "metadata": {},
     "output_type": "display_data"
    }
   ],
   "source": [
    "print(history.history.keys())\n",
    "plt.plot(history.history['loss'])\n",
    "plt.title('model loss')\n",
    "plt.ylabel('loss')\n",
    "plt.xlabel('epoch')\n",
    "plt.legend(['train'], loc='upper left')\n",
    "plt.show()"
   ]
  }
 ],
 "metadata": {
  "kernelspec": {
   "display_name": "base",
   "language": "python",
   "name": "python3"
  },
  "language_info": {
   "codemirror_mode": {
    "name": "ipython",
    "version": 3
   },
   "file_extension": ".py",
   "mimetype": "text/x-python",
   "name": "python",
   "nbconvert_exporter": "python",
   "pygments_lexer": "ipython3",
   "version": "3.11.5"
  },
  "orig_nbformat": 4
 },
 "nbformat": 4,
 "nbformat_minor": 2
}
