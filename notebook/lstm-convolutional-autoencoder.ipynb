{
 "cells": [
  {
   "cell_type": "code",
   "execution_count": null,
   "metadata": {},
   "outputs": [],
   "source": [
    "import sys\n",
    "sys.path.insert(0, '/Users/gil-arnaudcoche/Documents/ijoutaku/')\n",
    "\n",
    "import time\n",
    "import keras\n",
    "import matplotlib.pyplot as plt\n",
    "\n",
    "\n",
    "from config.paths import TRAIN_PATH\n",
    "from config.paths import MODELS_PATH\n",
    "\n",
    "from config.models import EPOCHS\n",
    "from config.models import CONV_FILTERS\n",
    "from config.models import CONV_KERNEL\n",
    "from config.models import LSTM_FILTERS\n",
    "from config.models import LSTM_KERNEL\n",
    "from config.models import PADDING\n",
    "from config.models import SIGMOID\n",
    "from config.models import RELU\n",
    "from config.models import STRIDES\n",
    "from config.models import LOSS\n",
    "from config.models import LEARNING_RATE\n",
    "from config.models import EPSILON\n",
    "\n",
    "from lib.generators import SequenceDataGenerator"
   ]
  },
  {
   "cell_type": "code",
   "execution_count": null,
   "metadata": {},
   "outputs": [],
   "source": [
    "train_set = SequenceDataGenerator(TRAIN_PATH)"
   ]
  },
  {
   "cell_type": "code",
   "execution_count": null,
   "metadata": {},
   "outputs": [],
   "source": [
    "model = keras.models.Sequential()\n",
    "model.add(keras.layers.TimeDistributed(keras.layers.Conv2D(CONV_FILTERS, CONV_KERNEL, activation=RELU, strides=STRIDES, padding=PADDING), batch_input_shape=(SequenceDataGenerator._BATCH_SIZE, int(SequenceDataGenerator._SEQUENCE_SIZE/SequenceDataGenerator._STRIDE_KERNEL), SequenceDataGenerator._IMAGE_HEIGHT, SequenceDataGenerator._IMAGE_WIDTH, 1)))\n",
    "model.add(keras.layers.LayerNormalization())\n",
    "# # # # #\n",
    "model.add(keras.layers.ConvLSTM2D(LSTM_FILTERS, LSTM_KERNEL, padding=PADDING, return_sequences=True))\n",
    "model.add(keras.layers.LayerNormalization())\n",
    "# # # # #\n",
    "model.add(keras.layers.TimeDistributed(keras.layers.Conv2DTranspose(CONV_FILTERS, CONV_KERNEL, activation=RELU, strides=STRIDES, padding=PADDING)))\n",
    "model.add(keras.layers.LayerNormalization())\n",
    "model.add(keras.layers.TimeDistributed(keras.layers.Conv2D(1, CONV_KERNEL, activation=SIGMOID, padding=PADDING)))\n",
    "print(model.summary())\n",
    "model.compile(loss=LOSS, optimizer=keras.optimizers.legacy.Adam(learning_rate=LEARNING_RATE, epsilon=EPSILON))\n",
    "start = time.time()\n",
    "history = model.fit(train_set, batch_size=SequenceDataGenerator._BATCH_SIZE, epochs=EPOCHS, shuffle=False)\n",
    "end = time.time()\n",
    "duration_seconds = int(end - start)\n",
    "duration_minutes, leftover_seconds = duration_seconds // 60, duration_seconds % 60\n",
    "print(f'Training took {duration_minutes} min {leftover_seconds} s')\n",
    "model.save(f'{MODELS_PATH}lstm-convolutional-autoencoder.hdf5')\n"
   ]
  },
  {
   "cell_type": "code",
   "execution_count": null,
   "metadata": {},
   "outputs": [],
   "source": [
    "print(history.history.keys())\n",
    "plt.plot(history.history['loss'])\n",
    "plt.title('model loss')\n",
    "plt.ylabel('loss')\n",
    "plt.xlabel('epoch')\n",
    "plt.legend(['train'], loc='upper left')\n",
    "plt.show()"
   ]
  }
 ],
 "metadata": {
  "kernelspec": {
   "display_name": "base",
   "language": "python",
   "name": "python3"
  },
  "language_info": {
   "codemirror_mode": {
    "name": "ipython",
    "version": 3
   },
   "file_extension": ".py",
   "mimetype": "text/x-python",
   "name": "python",
   "nbconvert_exporter": "python",
   "pygments_lexer": "ipython3",
   "version": "3.11.5"
  },
  "orig_nbformat": 4
 },
 "nbformat": 4,
 "nbformat_minor": 2
}
