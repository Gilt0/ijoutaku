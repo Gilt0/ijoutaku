{
 "cells": [
  {
   "cell_type": "code",
   "execution_count": null,
   "metadata": {},
   "outputs": [],
   "source": [
    "import keras\n",
    "import PIL as pil\n",
    "import os\n",
    "import numpy as np\n",
    "import random\n",
    "import matplotlib.pyplot as plt"
   ]
  },
  {
   "cell_type": "code",
   "execution_count": null,
   "metadata": {},
   "outputs": [],
   "source": [
    "DATA_PATH = '/Users/gil-arnaudcoche/Documents/ijoutaku/data/UCSDped1/'\n",
    "TRAIN_PATH = f'{DATA_PATH}Train/'\n",
    "TEST_PATH = f'{DATA_PATH}Test/'"
   ]
  },
  {
   "cell_type": "code",
   "execution_count": null,
   "metadata": {},
   "outputs": [],
   "source": [
    "class DataGenerator(keras.utils.Sequence):\n",
    "    \n",
    "    _IMAGE_WIDTH = 128\n",
    "    _IMAGE_HEIGHT = 88\n",
    "    _TIF_EXTENSION = '.tif'\n",
    "    _STRIDE_WINDOW = 5\n",
    "    _BATCH_SIZE = 3\n",
    "    _SEQUENCE_SIZE = 200\n",
    "\n",
    "    def __init__(self, data_path):\n",
    "        self._data_path = data_path\n",
    "        self._sequences = list()\n",
    "        self._batches = list()\n",
    "        self._len = 0\n",
    "        self.__load__()\n",
    "\n",
    "    def __make_batches__(self, ):\n",
    "        random.shuffle(self._sequences)\n",
    "        strided = list()\n",
    "        for sequence in self._sequences:\n",
    "            image_files = [ f'{sequence}{image_file}' for image_file in sorted(os.listdir(sequence)) ]\n",
    "            for stride in range(self._STRIDE_WINDOW):\n",
    "                strided.append(image_files[stride::self._STRIDE_WINDOW])\n",
    "        self._len = int(len(strided)/self._BATCH_SIZE)\n",
    "        self._batches = [ strided[b:b+self._BATCH_SIZE] for b in range(self._len) ]\n",
    "\n",
    "    def __load__(self, ):\n",
    "        self._sequences = sorted([ f'{self._data_path}{data_folder}/' for data_folder in os.listdir(self._data_path) ])\n",
    "        self.__make_batches__()\n",
    "\n",
    "    def __len__(self, ):\n",
    "        return self._len\n",
    "\n",
    "    def __getitem__(self, index):\n",
    "        X = np.zeros((self._BATCH_SIZE, int(self._SEQUENCE_SIZE/self._STRIDE_WINDOW), self._IMAGE_HEIGHT, self._IMAGE_WIDTH, 1), dtype=np.float16)\n",
    "        batch = self._batches[index]\n",
    "        for b, image_paths in enumerate(batch):\n",
    "            for t, image_path in enumerate(image_paths):\n",
    "                image = np.array(pil.Image.open(image_path).resize((self._IMAGE_WIDTH, self._IMAGE_HEIGHT)), dtype=np.float16)\n",
    "                X[b, t, :, :, 0] = image\n",
    "        return X, X\n",
    "\n",
    "    def on_epoch_end(self, ):\n",
    "        self.__make_batches__()"
   ]
  },
  {
   "cell_type": "code",
   "execution_count": null,
   "metadata": {},
   "outputs": [],
   "source": [
    "train_set = DataGenerator(TRAIN_PATH)"
   ]
  },
  {
   "cell_type": "code",
   "execution_count": 5,
   "metadata": {},
   "outputs": [],
   "source": [
    "EPOCHS = 3\n",
    "\n",
    "seq = keras.models.Sequential()\n",
    "seq.add(keras.layers.TimeDistributed(keras.layers.Conv2D(128, (11, 11), strides=4, padding=\"same\"), batch_input_shape=(DataGenerator._BATCH_SIZE, int(DataGenerator._SEQUENCE_SIZE/DataGenerator._STRIDE_WINDOW), DataGenerator._IMAGE_HEIGHT, DataGenerator._IMAGE_WIDTH, 1)))\n",
    "seq.add(keras.layers.LayerNormalization())\n",
    "# # # # #\n",
    "seq.add(keras.layers.ConvLSTM2D(64, (3, 3), padding=\"same\", return_sequences=True))\n",
    "seq.add(keras.layers.LayerNormalization())\n",
    "# seq.add(keras.layers.ConvLSTM2D(32, (3, 3), padding=\"same\", return_sequences=True))\n",
    "# seq.add(keras.layers.LayerNormalization())\n",
    "# seq.add(keras.layers.ConvLSTM2D(64, (3, 3), padding=\"same\", return_sequences=True))\n",
    "# seq.add(keras.layers.LayerNormalization())\n",
    "# # # # #\n",
    "seq.add(keras.layers.TimeDistributed(keras.layers.Conv2DTranspose(128, (11, 11), strides=4, padding=\"same\")))\n",
    "seq.add(keras.layers.LayerNormalization())\n",
    "seq.add(keras.layers.TimeDistributed(keras.layers.Conv2D(1, (11, 11), activation=\"sigmoid\", padding=\"same\")))\n",
    "print(seq.summary())\n",
    "seq.compile(loss='mse', optimizer=keras.optimizers.legacy.Adam(learning_rate=1e-4, epsilon=1e-6))\n",
    "seq.fit(train_set, batch_size=DataGenerator._BATCH_SIZE, epochs=EPOCHS, shuffle=False)\n"
   ]
  }
 ],
 "metadata": {
  "kernelspec": {
   "display_name": "base",
   "language": "python",
   "name": "python3"
  },
  "language_info": {
   "codemirror_mode": {
    "name": "ipython",
    "version": 3
   },
   "file_extension": ".py",
   "mimetype": "text/x-python",
   "name": "python",
   "nbconvert_exporter": "python",
   "pygments_lexer": "ipython3",
   "version": "3.11.5"
  },
  "orig_nbformat": 4
 },
 "nbformat": 4,
 "nbformat_minor": 2
}
