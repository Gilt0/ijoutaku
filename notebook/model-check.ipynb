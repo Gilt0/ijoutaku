{
 "cells": [
  {
   "cell_type": "code",
   "execution_count": null,
   "metadata": {},
   "outputs": [],
   "source": [
    "!rm -rf /Users/gil-arnaudcoche/Documents/ijoutaku/data/UCSD_Anomaly_Dataset.v1p2/UCSDped1/Test/*_gt"
   ]
  },
  {
   "cell_type": "code",
   "execution_count": null,
   "metadata": {},
   "outputs": [],
   "source": [
    "import sys\n",
    "sys.path.insert(0, '/Users/gil-arnaudcoche/Documents/ijoutaku/')\n",
    "\n",
    "import time\n",
    "import keras\n",
    "import numpy as np\n",
    "import matplotlib.pyplot as plt\n",
    "\n",
    "from config.paths import TEST_PATH\n",
    "from config.paths import MODELS_PATH\n",
    "\n",
    "from lib.generators import SequenceDataGenerator\n",
    "from lib.generators import ForwardDataGenerator"
   ]
  },
  {
   "cell_type": "code",
   "execution_count": null,
   "metadata": {},
   "outputs": [],
   "source": [
    "LSTM_CONVOLUTIONAL_AUTOENCODER = f'{MODELS_PATH}lstm-convolutional-autoencoder.hdf5'\n",
    "LSTM_CONVOLUTIONAL_AUTOENCODER_FORWARD = f'{MODELS_PATH}lstm-convolutional-autoencoder-forward.hdf5'\n",
    "LSTM_AUTOENCODER_FORWARD = f'{MODELS_PATH}lstm-autoencoder-forward.hdf5'"
   ]
  },
  {
   "cell_type": "code",
   "execution_count": null,
   "metadata": {},
   "outputs": [],
   "source": [
    "lstm_convolutional_autoencoder = keras.models.load_model(LSTM_CONVOLUTIONAL_AUTOENCODER)\n",
    "lstm_convolutional_autoencoder_forward = keras.models.load_model(LSTM_CONVOLUTIONAL_AUTOENCODER_FORWARD)\n",
    "lstm_autoencoder_forward = keras.models.load_model(LSTM_AUTOENCODER_FORWARD)"
   ]
  },
  {
   "cell_type": "code",
   "execution_count": null,
   "metadata": {},
   "outputs": [],
   "source": [
    "sequence_test_set = SequenceDataGenerator(TEST_PATH)\n",
    "forward_test_set = ForwardDataGenerator(TEST_PATH)"
   ]
  },
  {
   "cell_type": "code",
   "execution_count": null,
   "metadata": {},
   "outputs": [],
   "source": [
    "mse = keras.losses.MeanSquaredError()"
   ]
  },
  {
   "cell_type": "code",
   "execution_count": null,
   "metadata": {},
   "outputs": [],
   "source": [
    "b = 38\n",
    "sequence = sequence_test_set[b]\n",
    "x = sequence[0][:, :, :, :, :]\n",
    "x_predict = lstm_convolutional_autoencoder.predict(x)\n",
    "mse_values = np.zeros(x.shape[1])\n",
    "for t in range(x.shape[1]):\n",
    "    mse_values[t] = mse(x[1, t, :, :, 0], x_predict[1, t, :, :, 0])\n",
    "plt.title('MSE of LSTM Convolutional Autoencoder of sequence 24')\n",
    "plt.plot(1 + np.arange(0, SequenceDataGenerator._SEQUENCE_SIZE, SequenceDataGenerator._STRIDE_KERNEL), mse_values)\n",
    "plt.xlabel('time in sequence')"
   ]
  },
  {
   "cell_type": "code",
   "execution_count": null,
   "metadata": {},
   "outputs": [],
   "source": [
    "n = 33\n",
    "img = x[1, n, :, :, 0]\n",
    "img_predict = x_predict[1, n, :, :, 0]\n",
    "plt.figure(figsize=(10, 15))\n",
    "plt.subplot(311)\n",
    "plt.title('Original')\n",
    "plt.imshow(img, cmap='gray')\n",
    "plt.gca().set_axis_off()\n",
    "plt.subplot(312)\n",
    "plt.title('Reconstructed')\n",
    "plt.imshow(img_predict, cmap='gray')\n",
    "plt.gca().set_axis_off()\n",
    "plt.subplot(313)\n",
    "plt.title('Error')\n",
    "plt.imshow(np.abs(img - img_predict), cmap='gray')\n",
    "plt.gca().set_axis_off()"
   ]
  },
  {
   "cell_type": "code",
   "execution_count": null,
   "metadata": {},
   "outputs": [],
   "source": [
    "b = 52\n",
    "x = sequence_test_set[b][0][:, :, :, :, :]\n",
    "x_predict = lstm_convolutional_autoencoder.predict(x)\n",
    "mse_values = np.zeros(x.shape[1])\n",
    "for t in range(x.shape[1]):\n",
    "    mse_values[t] = mse(x[1, t, :, :, 0], x_predict[1, t, :, :, 0])\n",
    "plt.title('MSE of LSTM Convolutional Autoencoder of sequence 32')\n",
    "plt.plot(1 + np.arange(0, SequenceDataGenerator._SEQUENCE_SIZE, SequenceDataGenerator._STRIDE_KERNEL), mse_values)\n",
    "plt.xlabel('time in sequence')"
   ]
  },
  {
   "cell_type": "code",
   "execution_count": null,
   "metadata": {},
   "outputs": [],
   "source": [
    "n = 20\n",
    "img = x[1, n, :, :, 0]\n",
    "img_predict = x_predict[1, n, :, :, 0]\n",
    "plt.figure(figsize=(10, 15))\n",
    "plt.subplot(311)\n",
    "plt.title('Original')\n",
    "plt.imshow(img, cmap='gray')\n",
    "plt.gca().set_axis_off()\n",
    "plt.subplot(312)\n",
    "plt.title('Reconstructed')\n",
    "plt.imshow(img_predict, cmap='gray')\n",
    "plt.gca().set_axis_off()\n",
    "plt.subplot(313)\n",
    "plt.title('Error')\n",
    "plt.imshow(np.abs(img - img_predict), cmap='gray')\n",
    "plt.gca().set_axis_off()"
   ]
  },
  {
   "cell_type": "code",
   "execution_count": null,
   "metadata": {},
   "outputs": [],
   "source": [
    "mse_values = np.zeros(195)\n",
    "p = 0\n",
    "for n in range(23*65, 24*65):\n",
    "    X, y = forward_test_set[n]\n",
    "    y_predict = lstm_autoencoder_forward(X)\n",
    "    for k in range(y.shape[0]):\n",
    "        mse_values[p] = mse(y[k, :, :, :], y_predict[k, :, :, :])\n",
    "        p += 1\n",
    "plt.title('MSE of LSTM Forward Autoencoder of sequence 24')\n",
    "plt.plot(mse_values)\n",
    "plt.xlabel('time in sequence')"
   ]
  },
  {
   "cell_type": "code",
   "execution_count": null,
   "metadata": {},
   "outputs": [],
   "source": [
    "mse_values = np.zeros(195)\n",
    "p = 0\n",
    "for n in range(23*65, 24*65):\n",
    "    X, y = forward_test_set[n]\n",
    "    y_predict = lstm_convolutional_autoencoder_forward(X)\n",
    "    for k in range(y.shape[0]):\n",
    "        mse_values[p] = mse(y[k, :, :, :], y_predict[k, :, :, :])\n",
    "        p += 1\n",
    "plt.title('MSE of LSTM Convolutional Forward Autoencoder of sequence 24')\n",
    "plt.plot(mse_values)\n",
    "plt.xlabel('time in sequence')"
   ]
  },
  {
   "cell_type": "code",
   "execution_count": null,
   "metadata": {},
   "outputs": [],
   "source": [
    "n = 23*65 + 50\n",
    "X, y = forward_test_set[n]\n",
    "y_predict = lstm_convolutional_autoencoder_forward(X)\n",
    "img = y[0, :, :, 0]\n",
    "img_predict = y_predict[0, :, :, 0]\n",
    "plt.figure(figsize=(15, 15))\n",
    "plt.subplot(311)\n",
    "plt.title('Original')\n",
    "plt.imshow(img, cmap='gray')\n",
    "plt.gca().set_axis_off()\n",
    "plt.subplot(312)\n",
    "plt.title('Reconstructed')\n",
    "plt.gca().set_axis_off()\n",
    "plt.imshow(img_predict, cmap='gray')\n",
    "plt.subplot(313)\n",
    "plt.title(f'Error - mse = {int(1e7*mse(y, y_predict))/1e7}')\n",
    "plt.imshow(np.abs(img - img_predict), cmap='gray')\n",
    "plt.gca().set_axis_off()"
   ]
  },
  {
   "cell_type": "code",
   "execution_count": null,
   "metadata": {},
   "outputs": [],
   "source": [
    "mse_values = np.zeros(195)\n",
    "p = 0\n",
    "for n in range(2015, 2080):\n",
    "    X, y = forward_test_set[n]\n",
    "    y_predict = lstm_autoencoder_forward(X)\n",
    "    for k in range(y.shape[0]):\n",
    "        mse_values[p] = mse(y[k, :, :, :], y_predict[k, :, :, :])\n",
    "        p += 1\n",
    "plt.title('MSE of LSTM Forward Autoencoder of sequence 32')\n",
    "plt.plot(mse_values)\n",
    "plt.xlabel('time in sequence')"
   ]
  },
  {
   "cell_type": "code",
   "execution_count": null,
   "metadata": {},
   "outputs": [],
   "source": [
    "mse_values = np.zeros(195)\n",
    "p = 0\n",
    "for n in range(2015, 2080):\n",
    "    X, y = forward_test_set[n]\n",
    "    y_predict = lstm_convolutional_autoencoder_forward(X)\n",
    "    for k in range(y.shape[0]):\n",
    "        mse_values[p] = mse(y[k, :, :, :], y_predict[k, :, :, :])\n",
    "        p += 1\n",
    "plt.title('MSE of LSTM Convolutional Forward Autoencoder of sequence 32')\n",
    "plt.plot(mse_values)\n",
    "plt.xlabel('time in sequence')"
   ]
  },
  {
   "cell_type": "code",
   "execution_count": null,
   "metadata": {},
   "outputs": [],
   "source": [
    "n = 2050\n",
    "X, y = forward_test_set[n]\n",
    "y_predict = lstm_convolutional_autoencoder_forward(X)\n",
    "img = y[0, :, :, 0]\n",
    "img_predict = y_predict[0, :, :, 0]\n",
    "plt.figure(figsize=(15, 15))\n",
    "plt.subplot(311)\n",
    "plt.title('Original')\n",
    "plt.imshow(img, cmap='gray')\n",
    "plt.gca().set_axis_off()\n",
    "plt.subplot(312)\n",
    "plt.title('Reconstructed')\n",
    "plt.gca().set_axis_off()\n",
    "plt.imshow(img_predict, cmap='gray')\n",
    "plt.subplot(313)\n",
    "plt.title('Error')\n",
    "plt.imshow(np.abs(img - img_predict), cmap='gray')\n",
    "plt.gca().set_axis_off()"
   ]
  },
  {
   "cell_type": "code",
   "execution_count": null,
   "metadata": {},
   "outputs": [],
   "source": []
  }
 ],
 "metadata": {
  "kernelspec": {
   "display_name": "base",
   "language": "python",
   "name": "python3"
  },
  "language_info": {
   "codemirror_mode": {
    "name": "ipython",
    "version": 3
   },
   "file_extension": ".py",
   "mimetype": "text/x-python",
   "name": "python",
   "nbconvert_exporter": "python",
   "pygments_lexer": "ipython3",
   "version": "3.11.5"
  }
 },
 "nbformat": 4,
 "nbformat_minor": 2
}
